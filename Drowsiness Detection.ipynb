{
 "cells": [
  {
   "cell_type": "markdown",
   "id": "7b121cb4",
   "metadata": {},
   "source": [
    "# Drowsiness Detection\n",
    "### Drowsiness Detection using NumPy, OpenCV and Pygame\n",
    "#### We detect drowsiness if the person blinks at rapid intervals or if his head is not in a stable state, if found to be drowsy, the code will send a 'Beep' sound to wake the person."
   ]
  },
  {
   "cell_type": "code",
   "execution_count": null,
   "id": "3ca7bdc9",
   "metadata": {},
   "outputs": [],
   "source": [
    "# Imports\n",
    "import numpy\n",
    "from pygame import mixer\n",
    "import time\n",
    "import cv2"
   ]
  },
  {
   "cell_type": "code",
   "execution_count": null,
   "id": "41737af2",
   "metadata": {},
   "outputs": [],
   "source": [
    "# Beep Function\n",
    "def alert():\n",
    "   mixer.init()\n",
    "   alert=mixer.Sound('./assets/beep-07.wav')\n",
    "   alert.play()\n",
    "   time.sleep(0.1)\n",
    "   alert.play()  "
   ]
  },
  {
   "cell_type": "code",
   "execution_count": null,
   "id": "4e3ad3a7",
   "metadata": {},
   "outputs": [],
   "source": [
    "# Inputs\n",
    "capture =cv2.VideoCapture(0)\n",
    "face_cascade = cv2.CascadeClassifier('./assets/haarcascade_frontalface_default.xml')\n",
    "eye_cascade = cv2.CascadeClassifier('./assets/haarcascade_eye_tree_eyeglasses.xml')\n",
    "blink_cascade = cv2.CascadeClassifier('./assets/CustomBlinkCascade.xml')"
   ]
  },
  {
   "cell_type": "code",
   "execution_count": null,
   "id": "efc3a8d9",
   "metadata": {},
   "outputs": [],
   "source": [
    "# Driver Code\n",
    "while True:\n",
    "      ret, frame = capture.read()\n",
    "      gray = cv2.cvtColor(frame,cv2.COLOR_BGR2GRAY)\n",
    "      faces = face_cascade.detectMultiScale(gray)\n",
    "\n",
    "      for (x,y,w,h) in faces:\n",
    "         font = cv2.FONT_HERSHEY_COMPLEX\n",
    "         cv2.putText(frame,'Face',(x+w,y+h),font,1,(250,250,250),2,cv2.LINE_AA)\n",
    "         cv2.rectangle(frame,(x,y),(x+w,y+h),(255,0,0),2)\n",
    "         roi_gray = gray[y:y+h, x:x+w]\n",
    "         roi_color = frame[y:y+h, x:x+w]\n",
    "\n",
    "         eyes = eye_cascade.detectMultiScale(roi_gray)\n",
    "         for(ex,ey,ew,eh) in eyes:\n",
    "            cv2.rectangle(roi_color,(ex,ey),(ex+ew,ey+eh),(0,255,0),2)\n",
    "\n",
    "         blink = blink_cascade.detectMultiScale(roi_gray)\n",
    "         for(eyx,eyy,eyw,eyh) in blink:\n",
    "            cv2.rectangle(roi_color,(eyx,eyy),(eyx+eyw,eyy+eyh),(255,255,0),2)\n",
    "            alert()\n",
    "      cv2.imshow('frame',frame)\n",
    "      k = cv2.waitKey(30) & 0xff\n",
    "      if k == 27:\n",
    "        break\n",
    "          \n",
    "capture.release()\n",
    "cv2.destroyAllWindows()"
   ]
  }
 ],
 "metadata": {
  "kernelspec": {
   "display_name": "Python 3 (ipykernel)",
   "language": "python",
   "name": "python3"
  },
  "language_info": {
   "codemirror_mode": {
    "name": "ipython",
    "version": 3
   },
   "file_extension": ".py",
   "mimetype": "text/x-python",
   "name": "python",
   "nbconvert_exporter": "python",
   "pygments_lexer": "ipython3",
   "version": "3.7.7"
  },
  "vscode": {
   "interpreter": {
    "hash": "52b90c5d0cf812ba6a282f4be4d3ba06570d84836ba0f2234a9e5d637c9a4d02"
   }
  }
 },
 "nbformat": 4,
 "nbformat_minor": 5
}
